{
 "cells": [
  {
   "cell_type": "code",
   "execution_count": 1,
   "metadata": {},
   "outputs": [],
   "source": [
    "import speech_recognition as sr\n",
    "import os\n",
    "from pydub import AudioSegment\n",
    "from pydub.silence import split_on_silence"
   ]
  },
  {
   "cell_type": "code",
   "execution_count": 2,
   "metadata": {},
   "outputs": [],
   "source": [
    "r = sr.Recognizer()"
   ]
  },
  {
   "cell_type": "code",
   "execution_count": 9,
   "metadata": {},
   "outputs": [],
   "source": [
    "def transcrive_audio(path):\n",
    "    with sr.AudioFile(path) as source:\n",
    "        audio_listened = r.record(source)\n",
    "        text = r.recognize_google(audio_listened, language=\"ru\")\n",
    "    return text"
   ]
  },
  {
   "cell_type": "code",
   "execution_count": 10,
   "metadata": {},
   "outputs": [],
   "source": [
    "def get_large_audio_transacription_on_silence(path):\n",
    "    \"\"\" Split the large audio file into chunks\n",
    "    and apply speech recognition on each of these chunks\"\"\"\n",
    "    sound = AudioSegment.from_file(path)\n",
    "    chunks = split_on_silence(sound,\n",
    "                              min_silence_len=500, # len of silence in milisec\n",
    "                              silence_thresh=sound.dBFS-14, # level of silence in dB\n",
    "                              keep_silence=500)\n",
    "    folder_name = 'audio_chunks'\n",
    "\n",
    "    if not os.path.isdir(folder_name):\n",
    "        os.mkdir(folder_name)\n",
    "\n",
    "    whole_text = ''\n",
    "\n",
    "    for i, audio_chunk in enumerate(chunks, start=1):\n",
    "        chunk_filename = os.path.join(folder_name, f\"chunk{i}.wav\")\n",
    "        audio_chunk.export(chunk_filename, format=\"wav\")\n",
    "\n",
    "        try:\n",
    "            text = transcrive_audio(chunk_filename)\n",
    "        except sr.UnknownValueError as e:\n",
    "            print(\"Error:\", str(e))\n",
    "        else:\n",
    "            text = f\"{text.capitalize()}. \"\n",
    "            print(chunk_filename, \":\", text)\n",
    "            whole_text += text\n",
    "\n",
    "    return whole_text\n"
   ]
  },
  {
   "cell_type": "code",
   "execution_count": 5,
   "metadata": {},
   "outputs": [],
   "source": [
    "path = 'mp3/incall_22022024_0916_375297928930_375447657648.wav'"
   ]
  },
  {
   "cell_type": "code",
   "execution_count": 11,
   "metadata": {},
   "outputs": [
    {
     "name": "stdout",
     "output_type": "stream",
     "text": [
      "Error: \n",
      "audio_chunks/chunk2.wav : Добрый день компания екатерина добрый день девушка скажите по поводу карелии уже ну представлено какая-то программа даты или ещё нет. \n",
      "audio_chunks/chunk3.wav : Расставлена какие у вас дата интересует. \n",
      "Error: \n",
      "Error: \n",
      "Error: \n",
      "audio_chunks/chunk7.wav : Да просто. \n",
      "Error: \n",
      "audio_chunks/chunk9.wav : А сколько дней она. \n",
      "audio_chunks/chunk10.wav : Пятидневная. \n",
      "audio_chunks/chunk11.wav : Хорошо а вы мне можете это. \n",
      "audio_chunks/chunk12.wav : Скинуть программу и да. \n",
      "audio_chunks/chunk13.wav : В мае когда и в июле потому что мы думаем а в мае она вообще наверное да чем летом посмотреть. \n",
      "audio_chunks/chunk14.wav : Или как. \n",
      "audio_chunks/chunk15.wav : Карелия прекрасна в любой период то есть там в зависимости от погоды своей красоты открываются скажем так. \n",
      "audio_chunks/chunk16.wav : Хорошо а вы мне ну а цена сколько стоит. \n",
      "Error: \n",
      "audio_chunks/chunk18.wav : Ну если у вас есть на этом то я вам сброшу на этот номер да-да на этот именно дате какие вот меня интересует и программа. \n",
      "audio_chunks/chunk19.wav : Хорошо а ещё скажите такой момент а дагестан есть или нету. \n",
      "audio_chunks/chunk20.wav : Экскурсия вот мне тогда ещё дагестан перешлите июль месяц вторая половина. \n",
      "audio_chunks/chunk21.wav : Хорошо хорошо всё буду ждать спасибо. \n",
      "Error: \n",
      "full text: Добрый день компания екатерина добрый день девушка скажите по поводу карелии уже ну представлено какая-то программа даты или ещё нет. Расставлена какие у вас дата интересует. Да просто. А сколько дней она. Пятидневная. Хорошо а вы мне можете это. Скинуть программу и да. В мае когда и в июле потому что мы думаем а в мае она вообще наверное да чем летом посмотреть. Или как. Карелия прекрасна в любой период то есть там в зависимости от погоды своей красоты открываются скажем так. Хорошо а вы мне ну а цена сколько стоит. Ну если у вас есть на этом то я вам сброшу на этот номер да-да на этот именно дате какие вот меня интересует и программа. Хорошо а ещё скажите такой момент а дагестан есть или нету. Экскурсия вот мне тогда ещё дагестан перешлите июль месяц вторая половина. Хорошо хорошо всё буду ждать спасибо. \n"
     ]
    }
   ],
   "source": [
    "print(\"full text:\", get_large_audio_transacription_on_silence(path))"
   ]
  },
  {
   "cell_type": "code",
   "execution_count": 12,
   "metadata": {},
   "outputs": [],
   "source": [
    "with sr.AudioFile(path) as source:\n",
    "        r.adjust_for_ambient_noise(source, duration=0.5)\n",
    "        audio_listened = r.record(source)\n",
    "        text = r.recognize_google(audio_listened, language=\"ru\", show_all=True)"
   ]
  },
  {
   "cell_type": "code",
   "execution_count": 14,
   "metadata": {},
   "outputs": [
    {
     "ename": "RequestError",
     "evalue": "missing PocketSphinx module: ensure that PocketSphinx is set up correctly.",
     "output_type": "error",
     "traceback": [
      "\u001b[0;31m---------------------------------------------------------------------------\u001b[0m",
      "\u001b[0;31mModuleNotFoundError\u001b[0m                       Traceback (most recent call last)",
      "File \u001b[0;32m~/Documents/python programs/speech_to_text/venv/lib/python3.11/site-packages/speech_recognition/__init__.py:600\u001b[0m, in \u001b[0;36mRecognizer.recognize_sphinx\u001b[0;34m(self, audio_data, language, keyword_entries, grammar, show_all)\u001b[0m\n\u001b[1;32m    599\u001b[0m \u001b[38;5;28;01mtry\u001b[39;00m:\n\u001b[0;32m--> 600\u001b[0m     \u001b[38;5;28;01mfrom\u001b[39;00m \u001b[38;5;21;01mpocketsphinx\u001b[39;00m \u001b[38;5;28;01mimport\u001b[39;00m FsgModel, Jsgf, pocketsphinx\n\u001b[1;32m    602\u001b[0m \u001b[38;5;28;01mexcept\u001b[39;00m \u001b[38;5;167;01mImportError\u001b[39;00m:\n",
      "\u001b[0;31mModuleNotFoundError\u001b[0m: No module named 'pocketsphinx'",
      "\nDuring handling of the above exception, another exception occurred:\n",
      "\u001b[0;31mRequestError\u001b[0m                              Traceback (most recent call last)",
      "Cell \u001b[0;32mIn[14], line 4\u001b[0m\n\u001b[1;32m      2\u001b[0m r\u001b[38;5;241m.\u001b[39madjust_for_ambient_noise(source, duration\u001b[38;5;241m=\u001b[39m\u001b[38;5;241m0.5\u001b[39m)\n\u001b[1;32m      3\u001b[0m audio_listened \u001b[38;5;241m=\u001b[39m r\u001b[38;5;241m.\u001b[39mrecord(source)\n\u001b[0;32m----> 4\u001b[0m text \u001b[38;5;241m=\u001b[39m \u001b[43mr\u001b[49m\u001b[38;5;241;43m.\u001b[39;49m\u001b[43mrecognize_sphinx\u001b[49m\u001b[43m(\u001b[49m\u001b[43maudio_listened\u001b[49m\u001b[43m,\u001b[49m\u001b[43m \u001b[49m\u001b[43mlanguage\u001b[49m\u001b[38;5;241;43m=\u001b[39;49m\u001b[38;5;124;43m\"\u001b[39;49m\u001b[38;5;124;43mru\u001b[39;49m\u001b[38;5;124;43m\"\u001b[39;49m\u001b[43m,\u001b[49m\u001b[43m \u001b[49m\u001b[43mshow_all\u001b[49m\u001b[38;5;241;43m=\u001b[39;49m\u001b[38;5;28;43;01mTrue\u001b[39;49;00m\u001b[43m)\u001b[49m\n",
      "File \u001b[0;32m~/Documents/python programs/speech_to_text/venv/lib/python3.11/site-packages/speech_recognition/__init__.py:603\u001b[0m, in \u001b[0;36mRecognizer.recognize_sphinx\u001b[0;34m(self, audio_data, language, keyword_entries, grammar, show_all)\u001b[0m\n\u001b[1;32m    600\u001b[0m     \u001b[38;5;28;01mfrom\u001b[39;00m \u001b[38;5;21;01mpocketsphinx\u001b[39;00m \u001b[38;5;28;01mimport\u001b[39;00m FsgModel, Jsgf, pocketsphinx\n\u001b[1;32m    602\u001b[0m \u001b[38;5;28;01mexcept\u001b[39;00m \u001b[38;5;167;01mImportError\u001b[39;00m:\n\u001b[0;32m--> 603\u001b[0m     \u001b[38;5;28;01mraise\u001b[39;00m RequestError(\u001b[38;5;124m\"\u001b[39m\u001b[38;5;124mmissing PocketSphinx module: ensure that PocketSphinx is set up correctly.\u001b[39m\u001b[38;5;124m\"\u001b[39m)\n\u001b[1;32m    604\u001b[0m \u001b[38;5;28;01mexcept\u001b[39;00m \u001b[38;5;167;01mValueError\u001b[39;00m:\n\u001b[1;32m    605\u001b[0m     \u001b[38;5;28;01mraise\u001b[39;00m RequestError(\u001b[38;5;124m\"\u001b[39m\u001b[38;5;124mbad PocketSphinx installation; try reinstalling PocketSphinx version 0.0.9 or better.\u001b[39m\u001b[38;5;124m\"\u001b[39m)\n",
      "\u001b[0;31mRequestError\u001b[0m: missing PocketSphinx module: ensure that PocketSphinx is set up correctly."
     ]
    }
   ],
   "source": [
    "with sr.AudioFile(path) as source:\n",
    "        r.adjust_for_ambient_noise(source, duration=0.5)\n",
    "        audio_listened = r.record(source)\n",
    "        text = r.recognize_sphinx(audio_listened, language=\"ru\", show_all=True)"
   ]
  },
  {
   "cell_type": "code",
   "execution_count": 13,
   "metadata": {},
   "outputs": [
    {
     "data": {
      "text/plain": [
       "{'alternative': [{'transcript': 'Добрый день компания Екатерина добрый день девушка Скажите по поводу Карелии уже ну представлено какая-то программа даты или ещё нет или июль смотря это без Питера',\n",
       "   'confidence': 0.93195337},\n",
       "  {'transcript': 'Добрый день компания Екатерина добрый день девушка Скажите по поводу Карелии уже ну представлено какая-то программа даты или ещё нет наверное май месяц или июль смотря это без Питера'},\n",
       "  {'transcript': 'Добрый день компания Екатерина добрый день девушка Скажите по поводу Карелии уже ну проставлено какая-то программа даты или ещё нет или июль смотря это без Питера'},\n",
       "  {'transcript': 'Добрый день компания Екатерина добрый день девушка Скажите по поводу Карелии уже ну представлено какая-то программа дата или ещё нет или июль смотря это без Питера'},\n",
       "  {'transcript': 'Добрый день компания Екатерина добрый день девушка Скажите по поводу Карелии уже ну представлено какая-то программа датэ или ещё нет или июль смотря это без Питера'}],\n",
       " 'final': True}"
      ]
     },
     "execution_count": 13,
     "metadata": {},
     "output_type": "execute_result"
    }
   ],
   "source": [
    "text"
   ]
  }
 ],
 "metadata": {
  "kernelspec": {
   "display_name": "venv",
   "language": "python",
   "name": "python3"
  },
  "language_info": {
   "codemirror_mode": {
    "name": "ipython",
    "version": 3
   },
   "file_extension": ".py",
   "mimetype": "text/x-python",
   "name": "python",
   "nbconvert_exporter": "python",
   "pygments_lexer": "ipython3",
   "version": "3.11.8"
  }
 },
 "nbformat": 4,
 "nbformat_minor": 2
}
