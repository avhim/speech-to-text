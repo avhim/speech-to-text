{
 "cells": [
  {
   "cell_type": "code",
   "execution_count": 1,
   "metadata": {},
   "outputs": [],
   "source": [
    "import os\n",
    "import whisper"
   ]
  },
  {
   "cell_type": "code",
   "execution_count": 2,
   "metadata": {},
   "outputs": [
    {
     "name": "stderr",
     "output_type": "stream",
     "text": [
      "/home/chargik/Documents/python programs/speech_to_text/venv/lib/python3.11/site-packages/whisper/transcribe.py:115: UserWarning: FP16 is not supported on CPU; using FP32 instead\n",
      "  warnings.warn(\"FP16 is not supported on CPU; using FP32 instead\")\n"
     ]
    },
    {
     "name": "stdout",
     "output_type": "stream",
     "text": [
      "text in video:\n",
      "  Добрый день, компания, древолапы, Кетерина, что-то? Добрый день, девушка, сходище по поводу корилии. Уже, ну, представлено шкакая-то программа, да, или еще нет. Доставлено, как его, да, интересно. На какие-то интересы? Это, наверное, маленькие, или июль, смотрят, это без питьера, хочу корилиу просто. Да, на преступности. Нет, на маленькой ясной ясной. А сколько дней она? Питьянинная. Кока, опять, ведраильница, да, в мая. Хорошо, або не можете все там темы в программу и даты в мая, тогда. И в уюле, потому что мы же и в мая. А в мая она вообще, наверное, интереснее, вюда, в чем лет, так смотреть. Или как? Ну, корилия прекрасно в любой период, то есть там, в зависимости от погоды, свои расходы открываются кажемта. Хорошо, а вон я, или, одинаковка стоит, или здесь на 5 раз, в мая, она, в мая, в 5 раз, уже, уже, уже, очень дороже. Хорошо, вы мне тогда в вам святиши номер, либо на этот, перешите, ну, если у вас есть на этом, то я вам страшно это помню. Да, да, на этот. Именно даты, которые вот меня интересуют, мая, и в программу. И вот, предлагаю. Хорошо, а еще скажите, в таком момент, а до Гестан есть или нету? Есть такие шумки. Искурщие, вот мне тогда есть до Гестан, перешите. И вюльмеся старая полагина. Иск ощущенияjet, хорошо,endi,\n"
     ]
    }
   ],
   "source": [
    "model = whisper.load_model(\"base\")\n",
    "result = model.transcribe(\"mp3/incall_22022024_0916_375297928930_375447657648.mp3\")\n",
    "print(f\"text in video:\\n {result['text']}\")\n",
    "\n",
    "# subprocess.call(['ffmpeg', '-i', 'mp3/incall_22022024_0916_375297928930_375447657648.mp3',\n",
    "#                   'mp3/incall_22022024_0916_375297928930_375447657648.wav'])"
   ]
  },
  {
   "cell_type": "code",
   "execution_count": 3,
   "metadata": {},
   "outputs": [],
   "source": [
    "prompt=f'''Provide me point wise summary of meeting with proper\n",
    "title from this text \"{result['text']}\".'''"
   ]
  },
  {
   "cell_type": "code",
   "execution_count": 4,
   "metadata": {},
   "outputs": [],
   "source": [
    "from gpt4all import GPT4All"
   ]
  },
  {
   "cell_type": "code",
   "execution_count": 5,
   "metadata": {},
   "outputs": [
    {
     "name": "stdout",
     "output_type": "stream",
     "text": [
      " The summary of meeting : \n",
      " \n"
     ]
    }
   ],
   "source": [
    "model = GPT4All(\"orca-mini-3b-gguf2-q4_0.gguf\")\n",
    "output = model.generate(prompt)\n",
    "print(f' The summary of meeting : \\n {output}')"
   ]
  },
  {
   "cell_type": "code",
   "execution_count": 6,
   "metadata": {},
   "outputs": [
    {
     "ename": "NameError",
     "evalue": "name 'meet_data' is not defined",
     "output_type": "error",
     "traceback": [
      "\u001b[0;31m---------------------------------------------------------------------------\u001b[0m",
      "\u001b[0;31mNameError\u001b[0m                                 Traceback (most recent call last)",
      "Cell \u001b[0;32mIn[6], line 5\u001b[0m\n\u001b[1;32m      1\u001b[0m \u001b[38;5;28;01mwith\u001b[39;00m model\u001b[38;5;241m.\u001b[39mchat_session():\n\u001b[1;32m      3\u001b[0m     response \u001b[38;5;241m=\u001b[39m model\u001b[38;5;241m.\u001b[39mgenerate(prompt\u001b[38;5;241m=\u001b[39m\u001b[38;5;124m'\u001b[39m\u001b[38;5;124mGood Morning!\u001b[39m\u001b[38;5;124m'\u001b[39m, top_k\u001b[38;5;241m=\u001b[39m\u001b[38;5;241m1\u001b[39m)\n\u001b[0;32m----> 5\u001b[0m     response \u001b[38;5;241m=\u001b[39m model\u001b[38;5;241m.\u001b[39mgenerate(prompt\u001b[38;5;241m=\u001b[39m\u001b[38;5;124mf\u001b[39m\u001b[38;5;124m'\u001b[39m\u001b[38;5;124mProvide me point wise summary of meeting with proper  title from this text \u001b[39m\u001b[38;5;124m\"\u001b[39m\u001b[38;5;132;01m{\u001b[39;00m\u001b[43mmeet_data\u001b[49m\u001b[38;5;132;01m}\u001b[39;00m\u001b[38;5;124m\"\u001b[39m\u001b[38;5;124m'\u001b[39m, top_k\u001b[38;5;241m=\u001b[39m\u001b[38;5;241m1\u001b[39m)\n\u001b[1;32m      7\u001b[0m     response \u001b[38;5;241m=\u001b[39m model\u001b[38;5;241m.\u001b[39mgenerate(prompt\u001b[38;5;241m=\u001b[39m\u001b[38;5;124m'\u001b[39m\u001b[38;5;124mthank you\u001b[39m\u001b[38;5;124m'\u001b[39m, top_k\u001b[38;5;241m=\u001b[39m\u001b[38;5;241m1\u001b[39m)\n\u001b[1;32m      9\u001b[0m     \u001b[38;5;28mprint\u001b[39m(model\u001b[38;5;241m.\u001b[39mcurrent_chat_session)\n",
      "\u001b[0;31mNameError\u001b[0m: name 'meet_data' is not defined"
     ]
    }
   ],
   "source": [
    "with model.chat_session():\n",
    "\n",
    "    response = model.generate(prompt='Good Morning!', top_k=1)\n",
    "\n",
    "    response = model.generate(prompt=f'Provide me point wise summary of meeting with proper  title from this text \"{meet_data}\"', top_k=1)\n",
    "\n",
    "    response = model.generate(prompt='thank you', top_k=1)\n",
    "\n",
    "    print(model.current_chat_session)"
   ]
  },
  {
   "cell_type": "code",
   "execution_count": 7,
   "metadata": {},
   "outputs": [
    {
     "name": "stdout",
     "output_type": "stream",
     "text": [
      "100%|███████████████████████████████████████| 461M/461M [03:29<00:00, 2.31MiB/s]\n",
      "/home/chargik/Documents/python programs/speech_to_text/venv/lib/python3.11/site-packages/whisper/transcribe.py:115: UserWarning: FP16 is not supported on CPU; using FP32 instead\n",
      "  warnings.warn(\"FP16 is not supported on CPU; using FP32 instead\")\n",
      "Detecting language using up to the first 30 seconds. Use `--language` to specify the language\n",
      "Detected language: Russian\n",
      "[00:00.000 --> 00:04.000]  Добрый день, компания Преволапы, Китерина Сушёвка.\n",
      "[00:04.000 --> 00:06.000]  Добрый день, девушка.\n",
      "[00:06.000 --> 00:10.000]  Что же, по поводу Карели уже, ну, проставлена какая-то программа?\n",
      "[00:10.000 --> 00:12.000]  Дата или ещё нет?\n",
      "[00:12.000 --> 00:15.000]  Проставлена. Какие у вас даты интересуют?\n",
      "[00:19.000 --> 00:21.000]  На какие даты интересуют?\n",
      "[00:22.000 --> 00:25.000]  Наверное, мои есть, или и Юль.\n",
      "[00:25.000 --> 00:28.000]  Смотря, это без фитера, хочу Карелю просто.\n",
      "[00:28.000 --> 00:30.000]  Да, просто Карелю.\n",
      "[00:30.000 --> 00:32.000]  Моя, ясная и юль.\n",
      "[00:32.000 --> 00:34.000]  А сколько дней она?\n",
      "[00:34.000 --> 00:36.000]  Пятидневная.\n",
      "[00:36.000 --> 00:38.000]  Сколько? А, пять.\n",
      "[00:38.000 --> 00:40.000]  Пять разницы, да, в мае.\n",
      "[00:40.000 --> 00:42.000]  Хорошо.\n",
      "[00:42.000 --> 00:44.000]  А вы мне можете с этим...\n",
      "[00:46.000 --> 00:48.000]  Снимать программу и даты\n",
      "[00:48.000 --> 00:50.000]  в мае, тогда.\n",
      "[00:50.000 --> 00:52.000]  И в июне, потому что мы думаем.\n",
      "[00:52.000 --> 00:54.000]  А в мае она вообще, наверное, интересен,\n",
      "[00:54.000 --> 00:56.000]  её дальше в летом посмотреть.\n",
      "[00:56.000 --> 00:58.000]  Или как?\n",
      "[00:58.000 --> 01:00.000]  Карелия прекрасна в любой период,\n",
      "[01:00.000 --> 01:02.000]  то есть там в зависимости от погоды\n",
      "[01:02.000 --> 01:04.000]  свои красоты открываются, скажем так.\n",
      "[01:08.000 --> 01:10.000]  Хорошо.\n",
      "[01:10.000 --> 01:12.000]  А вы мне...\n",
      "[01:12.000 --> 01:14.000]  А цена, сколько стоит?\n",
      "[01:14.000 --> 01:16.000]  Пять разницы.\n",
      "[01:16.000 --> 01:18.000]  В мае она...\n",
      "[01:18.000 --> 01:20.000]  Ага.\n",
      "[01:20.000 --> 01:22.000]  Уже достаточно дороже.\n",
      "[01:22.000 --> 01:24.000]  Хорошо.\n",
      "[01:24.000 --> 01:26.000]  А вам сказать, что номер или на этот\n",
      "[01:26.000 --> 01:28.000]  ты перешлите?\n",
      "[01:28.000 --> 01:30.000]  Ну, если у вас есть на этом, то я вам прошу.\n",
      "[01:30.000 --> 01:32.000]  Да-да, на этот.\n",
      "[01:32.000 --> 01:34.000]  Именно дать, какие вот меня интересуют\n",
      "[01:34.000 --> 01:36.000]  в мае и в программе.\n",
      "[01:36.000 --> 01:38.000]  Хорошо.\n",
      "[01:38.000 --> 01:40.000]  Хорошо, а ещё скажите такой момент.\n",
      "[01:40.000 --> 01:42.000]  А Дагестан есть или нету?\n",
      "[01:42.000 --> 01:44.000]  Есть Дагестан.\n",
      "[01:44.000 --> 01:46.000]  В курсе. Вот мне тогда ещё\n",
      "[01:46.000 --> 01:48.000]  Дагестан перешлите.\n",
      "[01:48.000 --> 01:50.000]  Июль месяц, вторая половина.\n",
      "[01:50.000 --> 01:52.000]  Хорошо.\n",
      "[01:52.000 --> 01:54.000]  Хорошо, всё, буду ждать.\n",
      "[01:54.000 --> 01:56.000]  Спасибо.\n",
      "[01:56.000 --> 01:58.000]  Хорошо, Дагестан.\n"
     ]
    }
   ],
   "source": [
    "!whisper 'mp3/incall_22022024_0916_375297928930_375447657648.mp3'"
   ]
  }
 ],
 "metadata": {
  "kernelspec": {
   "display_name": "venv",
   "language": "python",
   "name": "python3"
  },
  "language_info": {
   "codemirror_mode": {
    "name": "ipython",
    "version": 3
   },
   "file_extension": ".py",
   "mimetype": "text/x-python",
   "name": "python",
   "nbconvert_exporter": "python",
   "pygments_lexer": "ipython3",
   "version": "3.11.8"
  }
 },
 "nbformat": 4,
 "nbformat_minor": 2
}
